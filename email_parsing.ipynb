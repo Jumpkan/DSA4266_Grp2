{
 "cells": [
  {
   "cell_type": "code",
   "execution_count": 1,
   "metadata": {},
   "outputs": [],
   "source": [
    "import pandas as pd\n",
    "import email\n",
    "import os"
   ]
  },
  {
   "cell_type": "code",
   "execution_count": 2,
   "metadata": {},
   "outputs": [],
   "source": [
    "data_path = \"Data/Raw_data\"\n",
    "chinese_path = \"trec06c\"\n",
    "english_path = \"trec06p\"\n",
    "index_path = \"full/index\""
   ]
  },
  {
   "cell_type": "code",
   "execution_count": 3,
   "metadata": {},
   "outputs": [],
   "source": [
    "labels_ch = pd.read_csv(os.path.join(data_path,chinese_path,index_path), sep=\" \", header=None)\n",
    "labels_en = pd.read_csv(os.path.join(data_path,english_path,index_path), sep=\" \", header=None)\n",
    "labels_ch.columns = [\"class\", \"subpath\"]\n",
    "labels_en.columns = [\"class\", \"subpath\"]"
   ]
  },
  {
   "cell_type": "code",
   "execution_count": 4,
   "metadata": {},
   "outputs": [],
   "source": [
    "def extract_message(row, lang):\n",
    "    subpath = row[\"subpath\"][3:]\n",
    "    if lang==\"en\":\n",
    "        full_path = os.path.join(data_path, english_path, subpath)\n",
    "        encode_type = 'ISO-8859-1'\n",
    "    elif lang==\"ch\":\n",
    "        full_path = os.path.join(data_path, chinese_path, subpath)\n",
    "        encode_type = 'GB2312'\n",
    "    try:\n",
    "        with open(full_path, \"r\", encoding=encode_type) as f:\n",
    "            email_content = f.read()\n",
    "            parsed_email_content = email.message_from_string(email_content)\n",
    "    except:\n",
    "        row[\"subject\"] = None\n",
    "        row[\"email_to\"] = None\n",
    "        row[\"email_from\"] = None\n",
    "        row[\"message\"] = None\n",
    "        return row\n",
    "    row[\"subject\"] = parsed_email_content[\"subject\"]\n",
    "    row[\"email_to\"] = parsed_email_content[\"to\"]\n",
    "    row[\"email_from\"] = parsed_email_content[\"from\"]\n",
    "    if parsed_email_content.is_multipart():\n",
    "        row[\"message\"] = list(parsed_email_content.get_payload())\n",
    "    else:\n",
    "        row[\"message\"] = [parsed_email_content.get_payload()]\n",
    "    return row\n",
    "\n",
    "extract_en = lambda row: extract_message(row, lang=\"en\")\n",
    "extract_ch = lambda row: extract_message(row, lang=\"ch\")"
   ]
  },
  {
   "cell_type": "code",
   "execution_count": 5,
   "metadata": {},
   "outputs": [],
   "source": [
    "ch_emails = labels_ch.apply(extract_ch, axis=1)"
   ]
  },
  {
   "cell_type": "code",
   "execution_count": 6,
   "metadata": {},
   "outputs": [],
   "source": [
    "ch_emails.dropna(inplace=True)"
   ]
  },
  {
   "cell_type": "code",
   "execution_count": 8,
   "metadata": {},
   "outputs": [],
   "source": [
    "ch_emails.to_pickle(\"ch_emails_raw.pkl\")"
   ]
  },
  {
   "cell_type": "code",
   "execution_count": 9,
   "metadata": {},
   "outputs": [],
   "source": [
    "en_emails = labels_en.apply(extract_en, axis=1)"
   ]
  },
  {
   "cell_type": "code",
   "execution_count": 11,
   "metadata": {},
   "outputs": [],
   "source": [
    "en_emails.dropna(inplace=True)"
   ]
  },
  {
   "cell_type": "code",
   "execution_count": 13,
   "metadata": {},
   "outputs": [],
   "source": [
    "en_emails.to_pickle(\"en_emails_raw.pkl\")"
   ]
  }
 ],
 "metadata": {
  "kernelspec": {
   "display_name": "Python 3",
   "language": "python",
   "name": "python3"
  },
  "language_info": {
   "codemirror_mode": {
    "name": "ipython",
    "version": 3
   },
   "file_extension": ".py",
   "mimetype": "text/x-python",
   "name": "python",
   "nbconvert_exporter": "python",
   "pygments_lexer": "ipython3",
   "version": "3.10.6"
  }
 },
 "nbformat": 4,
 "nbformat_minor": 2
}
