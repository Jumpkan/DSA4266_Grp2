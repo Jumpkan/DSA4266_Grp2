{
 "cells": [
  {
   "cell_type": "code",
   "execution_count": 1,
   "metadata": {},
   "outputs": [],
   "source": [
    "import pandas as pd\n",
    "import email\n",
    "import os\n",
    "from bs4 import BeautifulSoup\n",
    "import re\n",
    "import base64"
   ]
  },
  {
   "cell_type": "code",
   "execution_count": 2,
   "metadata": {},
   "outputs": [],
   "source": [
    "import warnings\n",
    "from bs4 import MarkupResemblesLocatorWarning\n",
    "warnings.filterwarnings(\"ignore\", category=MarkupResemblesLocatorWarning)"
   ]
  },
  {
   "cell_type": "code",
   "execution_count": 32,
   "metadata": {},
   "outputs": [],
   "source": [
    "data_path = \"Data/Raw_data\"\n",
    "chinese_path = \"trec06c\"\n",
    "english_path = \"trec06p\"\n",
    "index_path = \"full/index\""
   ]
  },
  {
   "cell_type": "code",
   "execution_count": 33,
   "metadata": {},
   "outputs": [],
   "source": [
    "labels_ch = pd.read_csv(os.path.join(data_path,chinese_path,index_path), sep=\" \", header=None)\n",
    "labels_en = pd.read_csv(os.path.join(data_path,english_path,index_path), sep=\" \", header=None)\n",
    "labels_ch.columns = [\"class\", \"subpath\"]\n",
    "labels_en.columns = [\"class\", \"subpath\"]"
   ]
  },
  {
   "cell_type": "code",
   "execution_count": 34,
   "metadata": {},
   "outputs": [],
   "source": [
    "def html_remover(txt):\n",
    "        \"\"\"\n",
    "        Removes html tags in a given text\n",
    "        Input: doc\n",
    "        Output: String\n",
    "        \"\"\"\n",
    "        soup=BeautifulSoup(txt,'html.parser')\n",
    "        a=soup.get_text()\n",
    "        return a"
   ]
  },
  {
   "cell_type": "code",
   "execution_count": 35,
   "metadata": {},
   "outputs": [],
   "source": [
    "def extract_message(row, lang):\n",
    "    subpath = row[\"subpath\"][3:]\n",
    "    if lang==\"en\":\n",
    "        full_path = os.path.join(data_path, english_path, subpath)\n",
    "        encode_type = 'iso-8859-1'\n",
    "    elif lang==\"ch\":\n",
    "        full_path = os.path.join(data_path, chinese_path, subpath)\n",
    "        encode_type = 'gb2312'\n",
    "    try:\n",
    "        with open(full_path, \"r\", encoding=encode_type) as f:\n",
    "            email_content = f.read()\n",
    "            parsed_email_content = email.message_from_string(email_content)\n",
    "    except:\n",
    "        return row\n",
    "    new_encode_type = parsed_email_content.get_content_charset()\n",
    "    if new_encode_type:\n",
    "        new_encode_type = re.sub(r\"charset|\\\"|=|'\", \"\", new_encode_type)\n",
    "        if new_encode_type != encode_type:\n",
    "            try:\n",
    "                with open(full_path, \"r\", encoding=new_encode_type) as f:\n",
    "                    new_email_content = f.read()\n",
    "                    parsed_email_content = email.message_from_string(new_email_content)\n",
    "                    encode_type = new_encode_type\n",
    "            except:\n",
    "                parsed_email_content = email.message_from_string(email_content)\n",
    "    try: \n",
    "        row[\"subject\"] = str(email.header.make_header(email.header.decode_header(parsed_email_content[\"subject\"])))\n",
    "        row[\"email_to\"] = str(email.header.make_header(email.header.decode_header(parsed_email_content[\"to\"])))\n",
    "        row[\"email_from\"] = str(email.header.make_header(email.header.decode_header(parsed_email_content[\"from\"])))\n",
    "    except:\n",
    "        return row\n",
    "    row[\"contains_img\"] = False\n",
    "    row[\"base64\"] = False\n",
    "    if parsed_email_content.is_multipart():\n",
    "        message = []\n",
    "        for part in parsed_email_content.get_payload():\n",
    "            part_payload = part.get_payload()\n",
    "            payload_type = part.get_content_type()\n",
    "            if payload_type in (\"text/plain\", \"text/html\"):\n",
    "                if part[\"Content-Transfer-Encoding\"] == \"base64\":\n",
    "                    try:\n",
    "                        part_payload = base64.b64decode(part_payload).decode(encode_type)\n",
    "                        #print(subpath)\n",
    "                        row[\"base64\"] = True\n",
    "                    except:\n",
    "                        pass\n",
    "                if payload_type == \"text/html\":\n",
    "                    part_payload = html_remover(part_payload)\n",
    "                message.append(part_payload)\n",
    "            elif payload_type == \"multipart/alternative\":\n",
    "                for sub_part in part_payload:\n",
    "                    sub_part_payload = sub_part.get_payload()\n",
    "                    sub_part_type = sub_part.get_content_type()\n",
    "                    if sub_part_type in (\"text/plain\", \"text/html\"):\n",
    "                        if part[\"Content-Transfer-Encoding\"] == \"base64\":\n",
    "                            try:\n",
    "                                part_payload = base64.b64decode(part_payload).decode(encode_type)\n",
    "                                #print(subpath)\n",
    "                                row[\"base64\"] = True\n",
    "                            except:\n",
    "                                pass\n",
    "                        if payload_type == \"text/html\":\n",
    "                            sub_part_payload = html_remover(sub_part_payload)\n",
    "                        message.append(sub_part_payload)\n",
    "            elif payload_type == \"image/png\": \n",
    "                row[\"contains_img\"] = True\n",
    "        row[\"message\"] = \" \".join(message)\n",
    "    else:\n",
    "        message = parsed_email_content.get_payload()\n",
    "        if parsed_email_content[\"Content-Transfer-Encoding\"] == \"base64\":\n",
    "            try:\n",
    "                message = base64.b64decode(message).decode(encode_type)\n",
    "                #print(subpath)\n",
    "                row[\"base64\"] = True\n",
    "            except:\n",
    "                pass\n",
    "        payload_type = parsed_email_content.get_content_type()\n",
    "        if payload_type == \"text/html\":\n",
    "            message = html_remover(message)\n",
    "        row[\"message\"] = message\n",
    "    return row\n",
    "\n",
    "extract_en = lambda row: extract_message(row, lang=\"en\")\n",
    "extract_ch = lambda row: extract_message(row, lang=\"ch\")"
   ]
  },
  {
   "cell_type": "code",
   "execution_count": 25,
   "metadata": {},
   "outputs": [],
   "source": [
    "with open(\"Data/Raw_data/trec06p/data/015/188\", \"r\", encoding=\"gb2312\") as f:\n",
    "    new_email_content = f.read()\n",
    "    parsed_email_content = email.message_from_string(new_email_content)"
   ]
  },
  {
   "cell_type": "code",
   "execution_count": 26,
   "metadata": {},
   "outputs": [
    {
     "name": "stdout",
     "output_type": "stream",
     "text": [
      "DQogICAgICAgICDO0rDvxOPXrMeuuN/Qy8Lwo7+x8Ljf0Mu1xMyr1OejrM7S1ruw78Tj1/a1vTEw\n",
      "MDDUqtLUuvPSqr+/xOPX1Ly6o6zS8s6qztK7udKqsO/G5Mv7yMujrA0KICDE48u1ttSyu6O/srvE\n",
      "3MDP0sC/v87So6ENCiAgICAgICAgICBodHRwOi8vem1ibi5jb20vP2lkPWN5cA0KDQoNCj09PT09\n",
      "PT09PT09PT09PT09PT09PT09PT09PT09PT09PT09PT09PT09PT09PT09DQrW0MCyo6EtLc34yc+5\n",
      "usLyssrGsaOs1tC9sc2o1qqjrNfUtq+20r2xoaMNCsPit9HXorLho6zK17TOs+TWtcvNMdeissrG\n",
      "saOhzfjWt6O6aHR0cDovL3d3dy56aG9uZ2xhLmNu\n",
      "\n"
     ]
    }
   ],
   "source": [
    "message = parsed_email_content.get_payload()\n",
    "print(message)"
   ]
  },
  {
   "cell_type": "code",
   "execution_count": 149,
   "metadata": {},
   "outputs": [],
   "source": [
    "message = message[1].get_payload()"
   ]
  },
  {
   "cell_type": "code",
   "execution_count": 28,
   "metadata": {},
   "outputs": [
    {
     "data": {
      "text/plain": [
       "'\\r\\n         我帮你赚钱高兴吗？别高兴的太早，我只帮你做到1000元以后要靠你自己，因为我还要帮其他人，\\r\\n  你说对不？不能老依靠我！\\r\\n          http://zmbn.com/?id=cyp\\r\\n\\r\\n\\r\\n===============================================\\r\\n中啦！--网上购买彩票，中奖通知，自动兑奖。\\r\\n免费注册，首次充值送1注彩票！网址：http://www.zhongla.cn'"
      ]
     },
     "execution_count": 28,
     "metadata": {},
     "output_type": "execute_result"
    }
   ],
   "source": [
    "import base64\n",
    "base64.b64decode(message).decode(\"gb2312\")"
   ]
  },
  {
   "cell_type": "code",
   "execution_count": 187,
   "metadata": {},
   "outputs": [],
   "source": [
    "ch_emails = labels_ch.apply(extract_ch, axis=1)"
   ]
  },
  {
   "cell_type": "code",
   "execution_count": 36,
   "metadata": {},
   "outputs": [],
   "source": [
    "en_emails = labels_en.apply(extract_en, axis=1)"
   ]
  },
  {
   "cell_type": "code",
   "execution_count": 38,
   "metadata": {},
   "outputs": [],
   "source": [
    "ch_emails.dropna(inplace=True)\n",
    "en_emails.dropna(inplace=True)\n",
    "ch_emails[\"full_subpath\"] = ch_emails.subpath.apply(lambda x: f\"trec06c{x[2:]}\")\n",
    "en_emails[\"full_subpath\"] = en_emails.subpath.apply(lambda x: f\"trec06p{x[2:]}\")\n",
    "ch_emails.set_index(\"full_subpath\", inplace=True)\n",
    "en_emails.set_index(\"full_subpath\", inplace=True)"
   ]
  },
  {
   "cell_type": "code",
   "execution_count": 190,
   "metadata": {},
   "outputs": [],
   "source": [
    "ch_emails.to_pickle(\"Data/ch_emails_raw.pkl\")\n",
    "en_emails.to_pickle(\"Data/en_emails_raw.pkl\")"
   ]
  },
  {
   "cell_type": "code",
   "execution_count": 40,
   "metadata": {},
   "outputs": [],
   "source": [
    "full = pd.concat([ch_emails, en_emails])"
   ]
  },
  {
   "cell_type": "code",
   "execution_count": 41,
   "metadata": {},
   "outputs": [],
   "source": [
    "temp = full[full.base64].copy()\n",
    "temp.drop_duplicates(subset=\"message\", inplace=True)"
   ]
  },
  {
   "cell_type": "code",
   "execution_count": 42,
   "metadata": {},
   "outputs": [
    {
     "data": {
      "text/html": [
       "<div>\n",
       "<style scoped>\n",
       "    .dataframe tbody tr th:only-of-type {\n",
       "        vertical-align: middle;\n",
       "    }\n",
       "\n",
       "    .dataframe tbody tr th {\n",
       "        vertical-align: top;\n",
       "    }\n",
       "\n",
       "    .dataframe thead th {\n",
       "        text-align: right;\n",
       "    }\n",
       "</style>\n",
       "<table border=\"1\" class=\"dataframe\">\n",
       "  <thead>\n",
       "    <tr style=\"text-align: right;\">\n",
       "      <th></th>\n",
       "      <th>base64</th>\n",
       "      <th>class</th>\n",
       "      <th>contains_img</th>\n",
       "      <th>email_from</th>\n",
       "      <th>email_to</th>\n",
       "      <th>message</th>\n",
       "      <th>subject</th>\n",
       "      <th>subpath</th>\n",
       "    </tr>\n",
       "    <tr>\n",
       "      <th>full_subpath</th>\n",
       "      <th></th>\n",
       "      <th></th>\n",
       "      <th></th>\n",
       "      <th></th>\n",
       "      <th></th>\n",
       "      <th></th>\n",
       "      <th></th>\n",
       "      <th></th>\n",
       "    </tr>\n",
       "  </thead>\n",
       "  <tbody>\n",
       "    <tr>\n",
       "      <th>trec06c/data/000/145</th>\n",
       "      <td>True</td>\n",
       "      <td>spam</td>\n",
       "      <td>False</td>\n",
       "      <td>\"zeng\" &lt;zeng@mail.com&gt;</td>\n",
       "      <td>sun@ccert.edu.cn</td>\n",
       "      <td></td>\n",
       "      <td>（17010.com）英超、意甲足球、篮球经理游戏</td>\n",
       "      <td>../data/000/145</td>\n",
       "    </tr>\n",
       "    <tr>\n",
       "      <th>trec06p/data/000/103</th>\n",
       "      <td>True</td>\n",
       "      <td>spam</td>\n",
       "      <td>False</td>\n",
       "      <td>\"Olive Alvarado\" &lt;olive_alvaradooc@youronline....</td>\n",
       "      <td>audrey@groucho.cse.psu.edu, duane@groucho.cse....</td>\n",
       "      <td>American Energy Review\\r\\n\\r\\nIn the current o...</td>\n",
       "      <td>New Penny Stock Report</td>\n",
       "      <td>../data/000/103</td>\n",
       "    </tr>\n",
       "    <tr>\n",
       "      <th>trec06p/data/000/159</th>\n",
       "      <td>True</td>\n",
       "      <td>spam</td>\n",
       "      <td>False</td>\n",
       "      <td>eintgmxabfbmafb@msa.hinet.net</td>\n",
       "      <td>phyllis@groucho.cse.psu.edu,tyler@groucho.cse....</td>\n",
       "      <td>\\n\\n\\n\\nÔËÈÙÉÌ³Ç-Õæ°®ÇéÈ¤\\n\\n\\n\\n\\n\\n\\n\\n\\n°®...</td>\n",
       "      <td>运荣商城-爱侣专卖 货到付款 保密配送</td>\n",
       "      <td>../data/000/159</td>\n",
       "    </tr>\n",
       "    <tr>\n",
       "      <th>trec06p/data/000/259</th>\n",
       "      <td>True</td>\n",
       "      <td>spam</td>\n",
       "      <td>False</td>\n",
       "      <td>カワシマ &lt;da2d1s2f1sd@sohu.com&gt;</td>\n",
       "      <td>&lt;juliana@groucho.cse.psu.edu&gt;</td>\n",
       "      <td>無料お試し体験、大人の時間をお楽しみ下さい。\\r\\n\\r\\nhttp://www.yello...</td>\n",
       "      <td>夜は空いていますか</td>\n",
       "      <td>../data/000/259</td>\n",
       "    </tr>\n",
       "    <tr>\n",
       "      <th>trec06p/data/001/019</th>\n",
       "      <td>True</td>\n",
       "      <td>spam</td>\n",
       "      <td>False</td>\n",
       "      <td>\"{©sªÛ}¢b¢c¢d¢e¶R¥»¯¸ VCD/DVD ³Ó¹L§A¶R¼Æ¤Q®a¤ù...</td>\n",
       "      <td>edgar@groucho.cse.psu.edu</td>\n",
       "      <td>\\n\\n\\n·s¼Wºô­¶1\\n\\n\\n\\n\\n\\n\\r\\n{ÂE°í}¢b¢c¢d¢e¶...</td>\n",
       "      <td>Daniel~ ¦Ê¦ì¨k¤k³¥¥~¶}³]Âø¥æ¬£¹ï ¥ú¤Ñ¤Æ¤é´N·F¤...</td>\n",
       "      <td>../data/001/019</td>\n",
       "    </tr>\n",
       "    <tr>\n",
       "      <th>...</th>\n",
       "      <td>...</td>\n",
       "      <td>...</td>\n",
       "      <td>...</td>\n",
       "      <td>...</td>\n",
       "      <td>...</td>\n",
       "      <td>...</td>\n",
       "      <td>...</td>\n",
       "      <td>...</td>\n",
       "    </tr>\n",
       "    <tr>\n",
       "      <th>trec06p/data/121/128</th>\n",
       "      <td>True</td>\n",
       "      <td>spam</td>\n",
       "      <td>False</td>\n",
       "      <td>\"MICROLOTTERYNL\" &lt;Microlottinter@netscape.net&gt;</td>\n",
       "      <td>&lt;DMDX@psy1.psych.arizona.edu&gt;</td>\n",
       "      <td>MICRO LOTTERY INTERNATIONAL\\r\\nVIJZELSTRAAT 56...</td>\n",
       "      <td>MICRO NEWS</td>\n",
       "      <td>../data/121/128</td>\n",
       "    </tr>\n",
       "    <tr>\n",
       "      <th>trec06p/data/121/232</th>\n",
       "      <td>True</td>\n",
       "      <td>spam</td>\n",
       "      <td>False</td>\n",
       "      <td>\"Marla Johnson\" &lt;TSmith@netscape.net&gt;</td>\n",
       "      <td>\"Tammie Barber\" &lt;devfinance@ag.ohio-state.edu&gt;...</td>\n",
       "      <td>Don't miss this weeks pick, Our last pick show...</td>\n",
       "      <td>Harvest Gains From This stock?</td>\n",
       "      <td>../data/121/232</td>\n",
       "    </tr>\n",
       "    <tr>\n",
       "      <th>trec06p/data/122/024</th>\n",
       "      <td>True</td>\n",
       "      <td>ham</td>\n",
       "      <td>False</td>\n",
       "      <td>Lori Ungurait &amp;lt;LUngurait@tennessee.edu&amp;gt;</td>\n",
       "      <td>\"Mike Herrmann\" &amp;lt;Mike.Herrmann@state.tn.us&amp;...</td>\n",
       "      <td>Kellie,\\r\\nThis announcement just went out reg...</td>\n",
       "      <td>Re: Fwd: Question</td>\n",
       "      <td>../data/122/024</td>\n",
       "    </tr>\n",
       "    <tr>\n",
       "      <th>trec06p/data/122/040</th>\n",
       "      <td>True</td>\n",
       "      <td>ham</td>\n",
       "      <td>False</td>\n",
       "      <td>BICDance@aol.com</td>\n",
       "      <td>economicsbb@columbia.edu</td>\n",
       "      <td>FOUNTAINHEADÂ® TANZ THEATRE\\ne â LETTER, Ber...</td>\n",
       "      <td>Fountainhead; XXI Black International Cinema B...</td>\n",
       "      <td>../data/122/040</td>\n",
       "    </tr>\n",
       "    <tr>\n",
       "      <th>trec06p/data/122/204</th>\n",
       "      <td>True</td>\n",
       "      <td>spam</td>\n",
       "      <td>False</td>\n",
       "      <td>\"Bruceg~ ÅÜºA·öº~¦b ¹q¨® ·nÀY©± ®ü¤ô¯D³õ ¤W±M¬...</td>\n",
       "      <td>webmaster@kukui.ifa.hawaii.edu</td>\n",
       "      <td>\\n\\n\\n·s¼Wºô­¶1\\n\\n\\n¡@\\n\\n\\r\\n¬ù¤k¤Í¥h¦n¼Ö­}°...</td>\n",
       "      <td>¦Ñ¦r¸¹-¦¨-¤H-¥ú-ºÐ-¯¸¤S¨Ó¤F..¬y¦å»ù©é¥«³õ..«K©...</td>\n",
       "      <td>../data/122/204</td>\n",
       "    </tr>\n",
       "  </tbody>\n",
       "</table>\n",
       "<p>193 rows × 8 columns</p>\n",
       "</div>"
      ],
      "text/plain": [
       "                     base64 class contains_img  \\\n",
       "full_subpath                                     \n",
       "trec06c/data/000/145   True  spam        False   \n",
       "trec06p/data/000/103   True  spam        False   \n",
       "trec06p/data/000/159   True  spam        False   \n",
       "trec06p/data/000/259   True  spam        False   \n",
       "trec06p/data/001/019   True  spam        False   \n",
       "...                     ...   ...          ...   \n",
       "trec06p/data/121/128   True  spam        False   \n",
       "trec06p/data/121/232   True  spam        False   \n",
       "trec06p/data/122/024   True   ham        False   \n",
       "trec06p/data/122/040   True   ham        False   \n",
       "trec06p/data/122/204   True  spam        False   \n",
       "\n",
       "                                                             email_from  \\\n",
       "full_subpath                                                              \n",
       "trec06c/data/000/145                             \"zeng\" <zeng@mail.com>   \n",
       "trec06p/data/000/103  \"Olive Alvarado\" <olive_alvaradooc@youronline....   \n",
       "trec06p/data/000/159                      eintgmxabfbmafb@msa.hinet.net   \n",
       "trec06p/data/000/259                        カワシマ <da2d1s2f1sd@sohu.com>   \n",
       "trec06p/data/001/019  \"{©sªÛ}¢b¢c¢d¢e¶R¥»¯¸ VCD/DVD ³Ó¹L§A¶R¼Æ¤Q®a¤ù...   \n",
       "...                                                                 ...   \n",
       "trec06p/data/121/128     \"MICROLOTTERYNL\" <Microlottinter@netscape.net>   \n",
       "trec06p/data/121/232              \"Marla Johnson\" <TSmith@netscape.net>   \n",
       "trec06p/data/122/024      Lori Ungurait &lt;LUngurait@tennessee.edu&gt;   \n",
       "trec06p/data/122/040                                   BICDance@aol.com   \n",
       "trec06p/data/122/204  \"Bruceg~ ÅÜºA·öº~¦b ¹q¨® ·nÀY©± ®ü¤ô¯D³õ ¤W±M¬...   \n",
       "\n",
       "                                                               email_to  \\\n",
       "full_subpath                                                              \n",
       "trec06c/data/000/145                                   sun@ccert.edu.cn   \n",
       "trec06p/data/000/103  audrey@groucho.cse.psu.edu, duane@groucho.cse....   \n",
       "trec06p/data/000/159  phyllis@groucho.cse.psu.edu,tyler@groucho.cse....   \n",
       "trec06p/data/000/259                      <juliana@groucho.cse.psu.edu>   \n",
       "trec06p/data/001/019                          edgar@groucho.cse.psu.edu   \n",
       "...                                                                 ...   \n",
       "trec06p/data/121/128                      <DMDX@psy1.psych.arizona.edu>   \n",
       "trec06p/data/121/232  \"Tammie Barber\" <devfinance@ag.ohio-state.edu>...   \n",
       "trec06p/data/122/024  \"Mike Herrmann\" &lt;Mike.Herrmann@state.tn.us&...   \n",
       "trec06p/data/122/040                           economicsbb@columbia.edu   \n",
       "trec06p/data/122/204                     webmaster@kukui.ifa.hawaii.edu   \n",
       "\n",
       "                                                                message  \\\n",
       "full_subpath                                                              \n",
       "trec06c/data/000/145                                                      \n",
       "trec06p/data/000/103  American Energy Review\\r\\n\\r\\nIn the current o...   \n",
       "trec06p/data/000/159   \\n\\n\\n\\nÔËÈÙÉÌ³Ç-Õæ°®ÇéÈ¤\\n\\n\\n\\n\\n\\n\\n\\n\\n°®...   \n",
       "trec06p/data/000/259  無料お試し体験、大人の時間をお楽しみ下さい。\\r\\n\\r\\nhttp://www.yello...   \n",
       "trec06p/data/001/019  \\n\\n\\n·s¼Wºô­¶1\\n\\n\\n\\n\\n\\n\\r\\n{ÂE°í}¢b¢c¢d¢e¶...   \n",
       "...                                                                 ...   \n",
       "trec06p/data/121/128  MICRO LOTTERY INTERNATIONAL\\r\\nVIJZELSTRAAT 56...   \n",
       "trec06p/data/121/232  Don't miss this weeks pick, Our last pick show...   \n",
       "trec06p/data/122/024  Kellie,\\r\\nThis announcement just went out reg...   \n",
       "trec06p/data/122/040  FOUNTAINHEADÂ® TANZ THEATRE\\ne â LETTER, Ber...   \n",
       "trec06p/data/122/204  \\n\\n\\n·s¼Wºô­¶1\\n\\n\\n¡@\\n\\n\\r\\n¬ù¤k¤Í¥h¦n¼Ö­}°...   \n",
       "\n",
       "                                                                subject  \\\n",
       "full_subpath                                                              \n",
       "trec06c/data/000/145                          （17010.com）英超、意甲足球、篮球经理游戏   \n",
       "trec06p/data/000/103                             New Penny Stock Report   \n",
       "trec06p/data/000/159                                运荣商城-爱侣专卖 货到付款 保密配送   \n",
       "trec06p/data/000/259                                          夜は空いていますか   \n",
       "trec06p/data/001/019  Daniel~ ¦Ê¦ì¨k¤k³¥¥~¶}³]Âø¥æ¬£¹ï ¥ú¤Ñ¤Æ¤é´N·F¤...   \n",
       "...                                                                 ...   \n",
       "trec06p/data/121/128                                         MICRO NEWS   \n",
       "trec06p/data/121/232                     Harvest Gains From This stock?   \n",
       "trec06p/data/122/024                                  Re: Fwd: Question   \n",
       "trec06p/data/122/040  Fountainhead; XXI Black International Cinema B...   \n",
       "trec06p/data/122/204  ¦Ñ¦r¸¹-¦¨-¤H-¥ú-ºÐ-¯¸¤S¨Ó¤F..¬y¦å»ù©é¥«³õ..«K©...   \n",
       "\n",
       "                              subpath  \n",
       "full_subpath                           \n",
       "trec06c/data/000/145  ../data/000/145  \n",
       "trec06p/data/000/103  ../data/000/103  \n",
       "trec06p/data/000/159  ../data/000/159  \n",
       "trec06p/data/000/259  ../data/000/259  \n",
       "trec06p/data/001/019  ../data/001/019  \n",
       "...                               ...  \n",
       "trec06p/data/121/128  ../data/121/128  \n",
       "trec06p/data/121/232  ../data/121/232  \n",
       "trec06p/data/122/024  ../data/122/024  \n",
       "trec06p/data/122/040  ../data/122/040  \n",
       "trec06p/data/122/204  ../data/122/204  \n",
       "\n",
       "[193 rows x 8 columns]"
      ]
     },
     "execution_count": 42,
     "metadata": {},
     "output_type": "execute_result"
    }
   ],
   "source": [
    "temp"
   ]
  },
  {
   "cell_type": "code",
   "execution_count": 44,
   "metadata": {},
   "outputs": [],
   "source": [
    "temp.to_pickle(\"Data/b64.pkl\")"
   ]
  },
  {
   "cell_type": "code",
   "execution_count": 170,
   "metadata": {},
   "outputs": [],
   "source": [
    "ch_emails_messages = ch_emails_raw[[\"message\"]].copy()\n",
    "en_emails_messages = en_emails_raw[[\"message\"]].copy()"
   ]
  },
  {
   "cell_type": "code",
   "execution_count": 171,
   "metadata": {},
   "outputs": [],
   "source": [
    "all_messages = pd.concat([ch_emails_messages, en_emails_messages])"
   ]
  },
  {
   "cell_type": "code",
   "execution_count": 172,
   "metadata": {},
   "outputs": [],
   "source": [
    "all_messages.to_pickle(\"Data/all_messages.pkl\")"
   ]
  },
  {
   "cell_type": "code",
   "execution_count": 173,
   "metadata": {},
   "outputs": [],
   "source": [
    "all_messages = pd.read_pickle(\"Data/all_messages.pkl\")"
   ]
  },
  {
   "cell_type": "code",
   "execution_count": 174,
   "metadata": {},
   "outputs": [],
   "source": [
    "all_messages.drop_duplicates(subset=\"message\", inplace=True)"
   ]
  },
  {
   "cell_type": "code",
   "execution_count": 175,
   "metadata": {},
   "outputs": [],
   "source": [
    "all_messages.to_pickle(\"Data/unique_messages.pkl\")"
   ]
  },
  {
   "cell_type": "code",
   "execution_count": 183,
   "metadata": {},
   "outputs": [],
   "source": [
    "unique_messages = pd.read_pickle(\"Data/unique_messages.pkl\")\n",
    "import random\n",
    "random.seed(42)\n",
    "# Shuffling for more even spread when processing batches\n",
    "unique_messages = unique_messages.sample(frac=1)"
   ]
  },
  {
   "cell_type": "code",
   "execution_count": 181,
   "metadata": {},
   "outputs": [
    {
     "data": {
      "text/plain": [
       "42882"
      ]
     },
     "execution_count": 181,
     "metadata": {},
     "output_type": "execute_result"
    }
   ],
   "source": [
    "len(unique_messages)"
   ]
  },
  {
   "cell_type": "code",
   "execution_count": 184,
   "metadata": {},
   "outputs": [],
   "source": [
    "nrows = len(all_messages)\n",
    "first = all_messages[:nrows//4]\n",
    "second = all_messages[nrows//4:2*nrows//4]\n",
    "third = all_messages[2*nrows//4:3*nrows//4]\n",
    "fourth = all_messages[3*nrows//4:]"
   ]
  },
  {
   "cell_type": "code",
   "execution_count": 185,
   "metadata": {},
   "outputs": [],
   "source": [
    "first.to_pickle(\"Data/first.pkl\")\n",
    "second.to_pickle(\"Data/second.pkl\")\n",
    "third.to_pickle(\"Data/third.pkl\")\n",
    "fourth.to_pickle(\"Data/fourth.pkl\")"
   ]
  },
  {
   "cell_type": "markdown",
   "metadata": {},
   "source": [
    "# After processing"
   ]
  },
  {
   "cell_type": "code",
   "execution_count": 53,
   "metadata": {},
   "outputs": [],
   "source": [
    "first = pd.read_json(\"first.json\", lines=True)\n",
    "first.set_index(\"doc_id\", inplace=True)\n",
    "second = pd.read_json(\"second.json\", lines=True)\n",
    "second.set_index(\"doc_id\", inplace=True)\n",
    "third = pd.read_json(\"third.json\", lines=True)\n",
    "third.set_index(\"doc_id\", inplace=True)\n",
    "fourth = pd.read_json(\"fourth.json\", lines=True)\n",
    "fourth.set_index(\"doc_id\", inplace=True)\n",
    "last = pd.read_json(\"last.json\", lines=True)\n",
    "last.set_index(\"doc_id\", inplace=True)"
   ]
  },
  {
   "cell_type": "code",
   "execution_count": 54,
   "metadata": {},
   "outputs": [],
   "source": [
    "full_processed = pd.concat([first, second, third, fourth, last])"
   ]
  },
  {
   "cell_type": "code",
   "execution_count": 55,
   "metadata": {},
   "outputs": [],
   "source": [
    "ch_emails = pd.read_pickle(\"Data/ch_emails_raw.pkl\")\n",
    "en_emails = pd.read_pickle(\"Data/en_emails_raw.pkl\")\n",
    "full = pd.concat([ch_emails, en_emails])"
   ]
  },
  {
   "cell_type": "code",
   "execution_count": 56,
   "metadata": {},
   "outputs": [],
   "source": [
    "full.dropna(inplace=True)\n",
    "b64 = full[full.base64]"
   ]
  },
  {
   "cell_type": "code",
   "execution_count": 57,
   "metadata": {},
   "outputs": [],
   "source": [
    "full_wo_b64 = full_processed[~full_processed.index.isin(b64.index)]"
   ]
  },
  {
   "cell_type": "code",
   "execution_count": 58,
   "metadata": {},
   "outputs": [],
   "source": [
    "b64_messages = pd.read_json(\"b64.json\", lines=True)\n",
    "b64_messages.set_index(\"doc_id\", inplace=True)\n",
    "full_messages = pd.concat([full_wo_b64, b64_messages])"
   ]
  },
  {
   "cell_type": "code",
   "execution_count": 59,
   "metadata": {},
   "outputs": [
    {
     "data": {
      "text/html": [
       "<div>\n",
       "<style scoped>\n",
       "    .dataframe tbody tr th:only-of-type {\n",
       "        vertical-align: middle;\n",
       "    }\n",
       "\n",
       "    .dataframe tbody tr th {\n",
       "        vertical-align: top;\n",
       "    }\n",
       "\n",
       "    .dataframe thead th {\n",
       "        text-align: right;\n",
       "    }\n",
       "</style>\n",
       "<table border=\"1\" class=\"dataframe\">\n",
       "  <thead>\n",
       "    <tr style=\"text-align: right;\">\n",
       "      <th></th>\n",
       "      <th>pretranslation</th>\n",
       "      <th>translated</th>\n",
       "      <th>processed</th>\n",
       "    </tr>\n",
       "    <tr>\n",
       "      <th>doc_id</th>\n",
       "      <th></th>\n",
       "      <th></th>\n",
       "      <th></th>\n",
       "    </tr>\n",
       "  </thead>\n",
       "  <tbody>\n",
       "    <tr>\n",
       "      <th>trec06c/data/000/023</th>\n",
       "      <td>IFRAME: http://www.dacong.com/bx.htm</td>\n",
       "      <td>IFRAME: http://www.dacong.com/bx.htm</td>\n",
       "      <td>iframe link</td>\n",
       "    </tr>\n",
       "    <tr>\n",
       "      <th>trec06c/data/000/007</th>\n",
       "      <td>尊敬的负责人（经理／财务）：您好！ 我是深圳伟仕嘉贸易有公司：兴办贸易、物资供销，实力雄厚；...</td>\n",
       "      <td>Dear person in charge (manager/finance): Hello...</td>\n",
       "      <td>dear person in charge managerfinance hello i a...</td>\n",
       "    </tr>\n",
       "    <tr>\n",
       "      <th>trec06c/data/000/014</th>\n",
       "      <td>您好！很高兴认识您。我司有意与您们合作:可长久给您们带来 巨大的效益,另因合作项目的高度自动...</td>\n",
       "      <td>Hello! Nice to meet you. Our company is intere...</td>\n",
       "      <td>hello nice to meet you our company is interest...</td>\n",
       "    </tr>\n",
       "    <tr>\n",
       "      <th>trec06c/data/000/005</th>\n",
       "      <td>TO：贵公司经理、财务 　　 　您好！　　　　　　 　 深圳市春洋贸易有限公司（东莞分公司）...</td>\n",
       "      <td>TO: Your company’s manager and finance manager...</td>\n",
       "      <td>to your company s manager and finance manager ...</td>\n",
       "    </tr>\n",
       "    <tr>\n",
       "      <th>trec06c/data/000/013</th>\n",
       "      <td>新型遥控飞机销路广 百元可办厂 玩具飞机品种繁多，但用微型小开关控制的新型能在空中自控飞翔的...</td>\n",
       "      <td>New remote-controlled airplanes are widely sol...</td>\n",
       "      <td>new remotecontrolled airplanes are widely sold...</td>\n",
       "    </tr>\n",
       "    <tr>\n",
       "      <th>...</th>\n",
       "      <td>...</td>\n",
       "      <td>...</td>\n",
       "      <td>...</td>\n",
       "    </tr>\n",
       "    <tr>\n",
       "      <th>trec06p/data/030/141</th>\n",
       "      <td>SÌ}~Å·B\\r \\µYê½ª èÜµÄ...</td>\n",
       "      <td>D\\r - B\\r ...\\r A ზაა\\r ¸R¸l¸l¸\\r http://www.j...</td>\n",
       "      <td>d  b  a r l l link u b p  u g num t c y num  n...</td>\n",
       "    </tr>\n",
       "    <tr>\n",
       "      <th>trec06p/data/058/203</th>\n",
       "      <td>RIFFx~\u0004\u0000WAVEfmt \u0010\u0000\u0000\u0000\u0001\u0000\u0001\u0000\u0011+\u0000\u0000\u0011+\u0000\u0000\u0001\u0000\b\u0000dataS~\u0004\u0000...</td>\n",
       "      <td>RIFFx~ WAVEfmt + + dataS~ ~y{yw{ zuvx}}ytmjhed...</td>\n",
       "      <td>riffx wavefmt   datas yyw zuvxytmjhedflnmknw p...</td>\n",
       "    </tr>\n",
       "    <tr>\n",
       "      <th>trec06p/data/014/167</th>\n",
       "      <td>dangerous cork blob thirteenth alliterate argu...</td>\n",
       "      <td>dangerous cork blob thirteenth alliterate argu...</td>\n",
       "      <td>dangerous cork blob thirteenth alliterate argu...</td>\n",
       "    </tr>\n",
       "    <tr>\n",
       "      <th>trec06p/data/025/231</th>\n",
       "      <td>\\r 　　　:*.☆。o:☆';*。:*.☆。o:☆';*。:*.☆。o:☆';*。:*.☆...</td>\n",
       "      <td>:*.☆. o:☆';*. :*.☆. o:☆';*. :*.☆. o:☆';*. :*.☆...</td>\n",
       "      <td>o    o    o    o   the largest online commun...</td>\n",
       "    </tr>\n",
       "    <tr>\n",
       "      <th>trec06p/data/025/042</th>\n",
       "      <td>Bruceg [Jasper]\\r ¥xÆW«÷³Ì§C «~½è³Ì¦n ªA°È³Ì¦n...</td>\n",
       "      <td>Bruceg [Jasper]\\r ¥xÆW«÷³Ì§C «~½è³Ì¦n ªA°È³Ì¦n...</td>\n",
       "      <td>bruceg jasper xaew  i c  e i n a e i n  y i   ...</td>\n",
       "    </tr>\n",
       "  </tbody>\n",
       "</table>\n",
       "<p>42879 rows × 3 columns</p>\n",
       "</div>"
      ],
      "text/plain": [
       "                                                         pretranslation  \\\n",
       "doc_id                                                                    \n",
       "trec06c/data/000/023               IFRAME: http://www.dacong.com/bx.htm   \n",
       "trec06c/data/000/007  尊敬的负责人（经理／财务）：您好！ 我是深圳伟仕嘉贸易有公司：兴办贸易、物资供销，实力雄厚；...   \n",
       "trec06c/data/000/014  您好！很高兴认识您。我司有意与您们合作:可长久给您们带来 巨大的效益,另因合作项目的高度自动...   \n",
       "trec06c/data/000/005  TO：贵公司经理、财务 　　 　您好！　　　　　　 　 深圳市春洋贸易有限公司（东莞分公司）...   \n",
       "trec06c/data/000/013  新型遥控飞机销路广 百元可办厂 玩具飞机品种繁多，但用微型小开关控制的新型能在空中自控飞翔的...   \n",
       "...                                                                 ...   \n",
       "trec06p/data/030/141  SÌ}~Å·B\\r \\µYê½ª èÜµÄ...   \n",
       "trec06p/data/058/203  RIFFx~\u0004\u0000WAVEfmt \u0010\u0000\u0000\u0000\u0001\u0000\u0001\u0000\u0011+\u0000\u0000\u0011+\u0000\u0000\u0001\u0000\b\u0000dataS~\u0004\u0000...   \n",
       "trec06p/data/014/167  dangerous cork blob thirteenth alliterate argu...   \n",
       "trec06p/data/025/231  \\r 　　　:*.☆。o:☆';*。:*.☆。o:☆';*。:*.☆。o:☆';*。:*.☆...   \n",
       "trec06p/data/025/042  Bruceg [Jasper]\\r ¥xÆW«÷³Ì§C «~½è³Ì¦n ªA°È³Ì¦n...   \n",
       "\n",
       "                                                             translated  \\\n",
       "doc_id                                                                    \n",
       "trec06c/data/000/023               IFRAME: http://www.dacong.com/bx.htm   \n",
       "trec06c/data/000/007  Dear person in charge (manager/finance): Hello...   \n",
       "trec06c/data/000/014  Hello! Nice to meet you. Our company is intere...   \n",
       "trec06c/data/000/005  TO: Your company’s manager and finance manager...   \n",
       "trec06c/data/000/013  New remote-controlled airplanes are widely sol...   \n",
       "...                                                                 ...   \n",
       "trec06p/data/030/141  D\\r - B\\r ...\\r A ზაა\\r ¸R¸l¸l¸\\r http://www.j...   \n",
       "trec06p/data/058/203  RIFFx~ WAVEfmt + + dataS~ ~y{yw{ zuvx}}ytmjhed...   \n",
       "trec06p/data/014/167  dangerous cork blob thirteenth alliterate argu...   \n",
       "trec06p/data/025/231  :*.☆. o:☆';*. :*.☆. o:☆';*. :*.☆. o:☆';*. :*.☆...   \n",
       "trec06p/data/025/042  Bruceg [Jasper]\\r ¥xÆW«÷³Ì§C «~½è³Ì¦n ªA°È³Ì¦n...   \n",
       "\n",
       "                                                              processed  \n",
       "doc_id                                                                   \n",
       "trec06c/data/000/023                                       iframe link   \n",
       "trec06c/data/000/007  dear person in charge managerfinance hello i a...  \n",
       "trec06c/data/000/014  hello nice to meet you our company is interest...  \n",
       "trec06c/data/000/005  to your company s manager and finance manager ...  \n",
       "trec06c/data/000/013  new remotecontrolled airplanes are widely sold...  \n",
       "...                                                                 ...  \n",
       "trec06p/data/030/141  d  b  a r l l link u b p  u g num t c y num  n...  \n",
       "trec06p/data/058/203  riffx wavefmt   datas yyw zuvxytmjhedflnmknw p...  \n",
       "trec06p/data/014/167  dangerous cork blob thirteenth alliterate argu...  \n",
       "trec06p/data/025/231    o    o    o    o   the largest online commun...  \n",
       "trec06p/data/025/042  bruceg jasper xaew  i c  e i n a e i n  y i   ...  \n",
       "\n",
       "[42879 rows x 3 columns]"
      ]
     },
     "execution_count": 59,
     "metadata": {},
     "output_type": "execute_result"
    }
   ],
   "source": [
    "full_messages"
   ]
  },
  {
   "cell_type": "code",
   "execution_count": 60,
   "metadata": {},
   "outputs": [],
   "source": [
    "full_df = pd.merge(full_messages, full, left_index=True, right_index=True, how=\"left\")"
   ]
  },
  {
   "cell_type": "code",
   "execution_count": 62,
   "metadata": {},
   "outputs": [],
   "source": [
    "full_df.to_pickle(\"Data/full_df.pkl\")"
   ]
  },
  {
   "cell_type": "code",
   "execution_count": 65,
   "metadata": {},
   "outputs": [
    {
     "data": {
      "text/plain": [
       "\"\\r \\u3000\\u3000\\u3000:*.☆。o:☆';*。:*.☆。o:☆';*。:*.☆。o:☆';*。:*.☆。o:☆';*。:*.☆\\r \\r \\u3000\\u3000\\u3000\\u3000\\u3000\\u3000\\u3000\\u3000\\u3000史上最大のONLINEコミュニティー誕生！\\r \\r \\u3000\\u3000\\u3000:*.☆。o:☆';*。:*.☆。o:☆';*。:*.☆。o:☆';*。:*.☆。o:☆';*。:*.☆\\r \\r \\u3000\\u3000\\u3000\\u3000\\u3000\\u3000\\r \\r \\u3000\\u3000\\u3000\\u3000\\u3000\\u3000\\u3000\\u3000どうしてもオススメしたいサイトが誕生しました。\\r \\r \\r \\u3000\\u3000\\u3000やっとあったかくなってきたのに心はあまり暖かくならない。\\r \\u3000\\u3000\\u3000地球は温暖化しているのに、財布も心も暖まらない…\\r \\r \\u3000\\u3000\\u3000\\u3000\\u3000\\u3000\\u3000そんな春になってしまいそうな方にプレゼントします！\\r \\r \\r \\u3000\\u3000\\u3000＊＊＊＊＊＊＊＊＊＊＊＊＊＊＊＊＊＊＊＊＊＊＊＊＊＊＊＊＊＊＊＊＊＊＊\\r \\r \\u3000\\u3000\\u3000\\u3000オススメしたい理由があります！\\r \\r \\u3000\\u3000\\u3000\\u3000登録料・利用料\\u3000・・・・・・・・・【無料】\\r \\u3000\\u3000\\u3000\\u3000メールの送受信\\u3000・・・・・・・・・【無料】\\r \\u3000\\u3000\\u3000\\u3000ユーザーの検索\\u3000・・・・・・・・・【無料】\\r \\u3000\\u3000\\u3000\\u3000掲示板の閲覧・書込み\\u3000・・・・・・【無料】\\r \\u3000\\u3000\\u3000\\u3000画像交換・アップロード\\u3000・・・・・【無料】\\r \\u3000\\u3000\\u3000\\u3000アドレス交換・電話番号交換\\u3000・・・【無料】\\r \\r \\u3000\\u3000\\u3000\\u3000全てのサービスが無料で楽しめるのは当たり前ですね。\\r \\u3000\\u3000\\u3000\\u3000でもそれだけがオススメしたい理由ではありません。\\r \\r \\u3000\\u3000\\u3000\\u3000友達以上の関係になることを目指して、\\r \\u3000\\u3000\\u3000\\u3000数多くのサイトを試しましたが、\\r \\u3000\\u3000\\u3000\\u3000みんな「良い友達」で終わってしまいます。\\r \\r \\u3000\\u3000\\u3000\\u3000「良い友達」で終わらないサイトがようやく誕生しました。\\r \\u3000\\u3000\\u3000\\u3000友達以上恋人未満になるか、友達以上……になるかは\\r \\u3000\\u3000\\u3000\\u3000あなた次第です。\\r \\r \\u3000\\u3000\\u3000\\u3000安心出来るサポート体制、万全のセキュリティはもちろん\\r \\u3000\\u3000\\u3000\\u3000今が一番狙い時のサイトです。\\r \\u3000\\u3000\\u3000\\u3000とりあえず登録してみて下さい。\\r \\u3000\\u3000\\u3000\\u3000http://lovelief.com/sfx/index.html?media=pc428\\r \\r \\u3000\\u3000\\u3000☆――――――――――――――――――――☆\\r \\u3000\\u3000\\u3000\\u3000\\u3000\\u3000あなたの恋が￥０で始められます！\\r \\u3000\\u3000\\u3000☆――――――――――――――――――――☆\\r \\r \\u3000\\u3000\\u3000登録はもちろん、サイトで遊ぶ際にかかるお金は一切不要！\\r \\u3000\\u3000\\u3000無料登録後、すぐにあなたの恋を始められます。\\r \\u3000\\u3000\\u3000http://lovelief.com/sfx/reg_apply.tpl.html?media=pc428\\r \\r \\u3000\\u3000女の子のプロフを少しだけ紹介！\\r \\u3000\\u3000━━━━━━━━━━━━━━━━━━━━━━━━━━━━━━\\r \\u3000\\u3000Profile\\r \\u3000\\u3000◎朋子さん（写真登録済み）\\r \\u3000\\u3000◎21〜25歳\\u3000体型：標準\\r \\u3000\\u3000◎遊べる時間：昼からＯＫ\\r \\u3000\\u3000━━━━━━━━━━━━━━━━━━━━━━━━━━━━━━\\r \\u3000\\u3000服とか化粧品とか集めるのが好き☆お洒落してお出かけする機会が\\r \\u3000\\u3000最近ないなぁ…(?_-;)\\r \\r \\u3000\\u3000…………☆…………☆…………☆…………☆…………☆…………\\r \\u3000\\u3000無料登録： http://lovelief.com/sfx/reg_apply.tpl.html?media=pc428\\r \\u3000\\u3000━━━━━━━━━━━━━━━━━━━━━━━━━━━━━━\\r \\u3000\\u3000Profile\\r \\u3000\\u3000◎絵海=emi=さん（写真登録済み）\\r \\u3000\\u3000◎31〜40歳\\u3000体型：標準\\r \\u3000\\u3000◎遊べる時間：夜中でもＯＫ\\r \\u3000\\u3000━━━━━━━━━━━━━━━━━━━━━━━━━━━━━━\\r \\u3000\\u3000看護婦をしています。仕事が忙しくて普通に出会う事が年齢的にも\\r \\u3000\\u3000時間的にも難しいです。エッチが大好きなので同じくエッチが大好\\r \\u3000\\u3000きな人と仲良くなりたいです\\r \\r \\u3000\\u3000…………☆…………☆…………☆…………☆…………☆…………\\r \\u3000\\u3000無料登録： http://lovelief.com/sfx/reg_apply.tpl.html?media=pc428\\r \\u3000\\u3000━━━━━━━━━━━━━━━━━━━━━━━━━━━━━━\\r \\u3000\\u3000Profile\\r \\u3000\\u3000□真美さん（写真登録済み）\\r \\u3000\\u3000□26〜30歳\\u3000体型：普通\\r \\u3000\\u3000□希望の関係\\u3000気軽に友達探し\\r \\u3000\\u3000━━━━━━━━━━━━━━━━━━━━━━━━━━━━━━\\r \\r \\u3000\\u3000いい出会いがないので、登録しました(o^-^o)\\r \\u3000\\u3000早めに会える人探してます。\\r \\r \\u3000\\u3000…………☆…………☆…………☆…………☆…………☆…………\\r \\u3000\\u3000無料登録： http://lovelief.com/sfx/reg_apply.tpl.html?media=pc428\\r \\u3000\\u3000…………☆…………☆…………☆…………☆…………☆…………\\r \\r \\r \\u3000※安全にご利用頂くため、\\r \\u3000\\u3000完全会員限定のサービスとさせて頂いております。\\r \\u3000\\u3000ご利用は登録から退会まで\\r \\u3000\\u3000全サービスが無料でお楽しみ頂けます。\\r \\u3000\\u3000http://lovelief.com/sfx/index.html?media=pc428\""
      ]
     },
     "execution_count": 65,
     "metadata": {},
     "output_type": "execute_result"
    }
   ],
   "source": [
    "full_df[full_df.index==\"trec06p/data/025/231\"].iloc[0].pretranslation"
   ]
  }
 ],
 "metadata": {
  "kernelspec": {
   "display_name": "Python 3",
   "language": "python",
   "name": "python3"
  },
  "language_info": {
   "codemirror_mode": {
    "name": "ipython",
    "version": 3
   },
   "file_extension": ".py",
   "mimetype": "text/x-python",
   "name": "python",
   "nbconvert_exporter": "python",
   "pygments_lexer": "ipython3",
   "version": "3.10.6"
  }
 },
 "nbformat": 4,
 "nbformat_minor": 2
}
