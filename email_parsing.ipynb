{
 "cells": [
  {
   "cell_type": "code",
   "execution_count": 1,
   "metadata": {},
   "outputs": [],
   "source": [
    "import pandas as pd\n",
    "import email\n",
    "import os\n",
    "from bs4 import BeautifulSoup\n",
    "import re\n",
    "import base64\n",
    "import warnings\n",
    "from bs4 import MarkupResemblesLocatorWarning\n",
    "warnings.filterwarnings(\"ignore\", category=MarkupResemblesLocatorWarning)"
   ]
  },
  {
   "cell_type": "code",
   "execution_count": 2,
   "metadata": {},
   "outputs": [],
   "source": [
    "# Data paths for extracting emails\n",
    "data_path = \"Data/Raw_data\"\n",
    "chinese_path = \"trec06c\"\n",
    "english_path = \"trec06p\"\n",
    "index_path = \"full/index\"\n",
    "labels_ch = pd.read_csv(os.path.join(data_path,chinese_path,index_path), sep=\" \", header=None)\n",
    "labels_en = pd.read_csv(os.path.join(data_path,english_path,index_path), sep=\" \", header=None)\n",
    "labels_ch.columns = [\"class\", \"subpath\"]\n",
    "labels_en.columns = [\"class\", \"subpath\"]"
   ]
  },
  {
   "cell_type": "code",
   "execution_count": 3,
   "metadata": {},
   "outputs": [],
   "source": [
    "def html_remover(txt):\n",
    "        \"\"\"\n",
    "        Removes html tags in a given text\n",
    "        Input: doc\n",
    "        Output: String\n",
    "        \"\"\"\n",
    "        soup=BeautifulSoup(txt,'html.parser')\n",
    "        a=soup.get_text()\n",
    "        return a\n",
    "\n",
    "def extract_message(row, lang):\n",
    "    subpath = row[\"subpath\"][3:]\n",
    "    if lang==\"en\":\n",
    "        full_path = os.path.join(data_path, english_path, subpath)\n",
    "        encode_type = 'iso-8859-1'\n",
    "    elif lang==\"ch\":\n",
    "        full_path = os.path.join(data_path, chinese_path, subpath)\n",
    "        encode_type = 'gb2312'\n",
    "    try:\n",
    "        with open(full_path, \"r\", encoding=encode_type) as f:\n",
    "            email_content = f.read()\n",
    "            parsed_email_content = email.message_from_string(email_content)\n",
    "    except:\n",
    "        return row\n",
    "    new_encode_type = parsed_email_content.get_content_charset()\n",
    "    if new_encode_type:\n",
    "        new_encode_type = re.sub(r\"charset|\\\"|=|'\", \"\", new_encode_type)\n",
    "        if new_encode_type != encode_type:\n",
    "            try:\n",
    "                with open(full_path, \"r\", encoding=new_encode_type) as f:\n",
    "                    new_email_content = f.read()\n",
    "                    parsed_email_content = email.message_from_string(new_email_content)\n",
    "                    encode_type = new_encode_type\n",
    "            except:\n",
    "                parsed_email_content = email.message_from_string(email_content)\n",
    "    try: \n",
    "        row[\"subject\"] = str(email.header.make_header(email.header.decode_header(parsed_email_content[\"subject\"])))\n",
    "        row[\"email_to\"] = str(email.header.make_header(email.header.decode_header(parsed_email_content[\"to\"])))\n",
    "        row[\"email_from\"] = str(email.header.make_header(email.header.decode_header(parsed_email_content[\"from\"])))\n",
    "    except:\n",
    "        return row\n",
    "    row[\"contains_img\"] = False\n",
    "    row[\"base64\"] = False\n",
    "    if parsed_email_content.is_multipart():\n",
    "        message = []\n",
    "        for part in parsed_email_content.get_payload():\n",
    "            part_payload = part.get_payload()\n",
    "            payload_type = part.get_content_type()\n",
    "            if payload_type in (\"text/plain\", \"text/html\"):\n",
    "                if part[\"Content-Transfer-Encoding\"] == \"base64\":\n",
    "                    try:\n",
    "                        part_payload = base64.b64decode(part_payload).decode(encode_type)\n",
    "                        #print(subpath)\n",
    "                        row[\"base64\"] = True\n",
    "                    except:\n",
    "                        pass\n",
    "                if payload_type == \"text/html\":\n",
    "                    part_payload = html_remover(part_payload)\n",
    "                message.append(part_payload)\n",
    "            elif payload_type == \"multipart/alternative\":\n",
    "                for sub_part in part_payload:\n",
    "                    sub_part_payload = sub_part.get_payload()\n",
    "                    sub_part_type = sub_part.get_content_type()\n",
    "                    if sub_part_type in (\"text/plain\", \"text/html\"):\n",
    "                        if part[\"Content-Transfer-Encoding\"] == \"base64\":\n",
    "                            try:\n",
    "                                part_payload = base64.b64decode(part_payload).decode(encode_type)\n",
    "                                #print(subpath)\n",
    "                                row[\"base64\"] = True\n",
    "                            except:\n",
    "                                pass\n",
    "                        if payload_type == \"text/html\":\n",
    "                            sub_part_payload = html_remover(sub_part_payload)\n",
    "                        message.append(sub_part_payload)\n",
    "            elif payload_type == \"image/png\": \n",
    "                row[\"contains_img\"] = True\n",
    "        row[\"message\"] = \" \".join(message)\n",
    "    else:\n",
    "        message = parsed_email_content.get_payload()\n",
    "        if parsed_email_content[\"Content-Transfer-Encoding\"] == \"base64\":\n",
    "            try:\n",
    "                message = base64.b64decode(message).decode(encode_type)\n",
    "                #print(subpath)\n",
    "                row[\"base64\"] = True\n",
    "            except:\n",
    "                pass\n",
    "        payload_type = parsed_email_content.get_content_type()\n",
    "        if payload_type == \"text/html\":\n",
    "            message = html_remover(message)\n",
    "        row[\"message\"] = message\n",
    "    return row\n",
    "\n",
    "extract_en = lambda row: extract_message(row, lang=\"en\")\n",
    "extract_ch = lambda row: extract_message(row, lang=\"ch\")"
   ]
  },
  {
   "cell_type": "code",
   "execution_count": 4,
   "metadata": {},
   "outputs": [],
   "source": [
    "# Run email parser\n",
    "ch_emails = labels_ch.apply(extract_ch, axis=1)\n",
    "en_emails = labels_en.apply(extract_en, axis=1)\n",
    "ch_emails.dropna(inplace=True)\n",
    "en_emails.dropna(inplace=True)\n",
    "ch_emails[\"full_subpath\"] = ch_emails.subpath.apply(lambda x: f\"trec06c{x[2:]}\")\n",
    "en_emails[\"full_subpath\"] = en_emails.subpath.apply(lambda x: f\"trec06p{x[2:]}\")\n",
    "ch_emails.set_index(\"full_subpath\", inplace=True)\n",
    "en_emails.set_index(\"full_subpath\", inplace=True)\n",
    "ch_emails.to_pickle(\"Data/ch_emails_raw.pkl\")\n",
    "en_emails.to_pickle(\"Data/en_emails_raw.pkl\")"
   ]
  },
  {
   "cell_type": "code",
   "execution_count": 5,
   "metadata": {},
   "outputs": [],
   "source": [
    "# Keep only (full_subpath, message) for translation\n",
    "ch_emails_messages = ch_emails[[\"message\"]].copy()\n",
    "en_emails_messages = en_emails[[\"message\"]].copy()\n",
    "all_messages = pd.concat([ch_emails_messages, en_emails_messages])\n",
    "all_messages.drop_duplicates(subset=\"message\", inplace=True)\n",
    "all_messages = all_messages.sample(frac=1)"
   ]
  },
  {
   "cell_type": "code",
   "execution_count": 6,
   "metadata": {},
   "outputs": [],
   "source": [
    "# Partition into parts for processing\n",
    "nrows = len(all_messages)\n",
    "first = all_messages[:nrows//4]\n",
    "second = all_messages[nrows//4:2*nrows//4]\n",
    "third = all_messages[2*nrows//4:3*nrows//4]\n",
    "fourth = all_messages[3*nrows//4:]\n",
    "first.to_pickle(\"Data/first.pkl\")\n",
    "second.to_pickle(\"Data/second.pkl\")\n",
    "third.to_pickle(\"Data/third.pkl\")\n",
    "fourth.to_pickle(\"Data/fourth.pkl\")"
   ]
  },
  {
   "cell_type": "markdown",
   "metadata": {},
   "source": [
    "# After processing"
   ]
  },
  {
   "cell_type": "code",
   "execution_count": 53,
   "metadata": {},
   "outputs": [],
   "source": [
    "first = pd.read_json(\"first.json\", lines=True)\n",
    "first.set_index(\"doc_id\", inplace=True)\n",
    "second = pd.read_json(\"second.json\", lines=True)\n",
    "second.set_index(\"doc_id\", inplace=True)\n",
    "third = pd.read_json(\"third.json\", lines=True)\n",
    "third.set_index(\"doc_id\", inplace=True)\n",
    "fourth = pd.read_json(\"fourth.json\", lines=True)\n",
    "fourth.set_index(\"doc_id\", inplace=True)\n",
    "full_processed = pd.concat([first, second, third, fourth])\n",
    "ch_emails = pd.read_pickle(\"Data/ch_emails_raw.pkl\")\n",
    "en_emails = pd.read_pickle(\"Data/en_emails_raw.pkl\")\n",
    "full = pd.concat([ch_emails, en_emails])"
   ]
  },
  {
   "cell_type": "code",
   "execution_count": 60,
   "metadata": {},
   "outputs": [],
   "source": [
    "full_df = pd.merge(full_processed, full, left_index=True, right_index=True, how=\"left\")\n",
    "full_df.to_pickle(\"Data/full_df.pkl\")"
   ]
  }
 ],
 "metadata": {
  "kernelspec": {
   "display_name": "Python 3",
   "language": "python",
   "name": "python3"
  },
  "language_info": {
   "codemirror_mode": {
    "name": "ipython",
    "version": 3
   },
   "file_extension": ".py",
   "mimetype": "text/x-python",
   "name": "python",
   "nbconvert_exporter": "python",
   "pygments_lexer": "ipython3",
   "version": "3.10.6"
  }
 },
 "nbformat": 4,
 "nbformat_minor": 2
}
