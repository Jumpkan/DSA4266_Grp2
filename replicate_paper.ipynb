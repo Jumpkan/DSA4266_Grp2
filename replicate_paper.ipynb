{
 "cells": [
  {
   "cell_type": "code",
   "execution_count": 22,
   "metadata": {},
   "outputs": [
    {
     "name": "stdout",
     "output_type": "stream",
     "text": [
      "True\n",
      "NVIDIA GeForce RTX 2060\n",
      "0\n"
     ]
    }
   ],
   "source": [
    "import torch\n",
    "print(torch.cuda.is_available())\n",
    "print(torch.cuda.get_device_name())\n",
    "print(torch.cuda.current_device())\n",
    "import pandas as pd\n",
    "import random, requests\n",
    "from utils.preprocess import DataPreProcessor\n",
    "import gensim.downloader as api\n",
    "from nltk.corpus import wordnet as wn\n",
    "from nltk.tokenize import word_tokenize\n",
    "\n",
    "# Load data\n",
    "eng_emails_raw = pd.read_pickle('Data/en_emails_raw.pkl')\n",
    "# ch_emails_raw = pd.read_pickle('Data/ch_emails_raw.pkl')"
   ]
  },
  {
   "cell_type": "code",
   "execution_count": 29,
   "metadata": {},
   "outputs": [
    {
     "ename": "IndexError",
     "evalue": "list index out of range",
     "output_type": "error",
     "traceback": [
      "\u001b[1;31m---------------------------------------------------------------------------\u001b[0m",
      "\u001b[1;31mIndexError\u001b[0m                                Traceback (most recent call last)",
      "Cell \u001b[1;32mIn[29], line 6\u001b[0m\n\u001b[0;32m      4\u001b[0m retrieved_words \u001b[38;5;241m=\u001b[39m [node[\u001b[38;5;124m'\u001b[39m\u001b[38;5;124mend\u001b[39m\u001b[38;5;124m'\u001b[39m][\u001b[38;5;124m'\u001b[39m\u001b[38;5;124mlabel\u001b[39m\u001b[38;5;124m'\u001b[39m] \u001b[38;5;28;01mfor\u001b[39;00m node \u001b[38;5;129;01min\u001b[39;00m retrieved_edges]\n\u001b[0;32m      5\u001b[0m retrieved_words \u001b[38;5;241m=\u001b[39m \u001b[38;5;28mlist\u001b[39m(\u001b[38;5;28mset\u001b[39m(word \u001b[38;5;28;01mfor\u001b[39;00m word \u001b[38;5;129;01min\u001b[39;00m retrieved_words \u001b[38;5;28;01mif\u001b[39;00m word \u001b[38;5;241m!=\u001b[39m token))\n\u001b[1;32m----> 6\u001b[0m \u001b[38;5;28mprint\u001b[39m(\u001b[43mrandom\u001b[49m\u001b[38;5;241;43m.\u001b[39;49m\u001b[43mchoice\u001b[49m\u001b[43m(\u001b[49m\u001b[43mretrieved_words\u001b[49m\u001b[43m)\u001b[49m)\n",
      "File \u001b[1;32mC:\\Program Files\\WindowsApps\\PythonSoftwareFoundation.Python.3.10_3.10.3056.0_x64__qbz5n2kfra8p0\\lib\\random.py:378\u001b[0m, in \u001b[0;36mRandom.choice\u001b[1;34m(self, seq)\u001b[0m\n\u001b[0;32m    376\u001b[0m \u001b[38;5;250m\u001b[39m\u001b[38;5;124;03m\"\"\"Choose a random element from a non-empty sequence.\"\"\"\u001b[39;00m\n\u001b[0;32m    377\u001b[0m \u001b[38;5;66;03m# raises IndexError if seq is empty\u001b[39;00m\n\u001b[1;32m--> 378\u001b[0m \u001b[38;5;28;01mreturn\u001b[39;00m \u001b[43mseq\u001b[49m\u001b[43m[\u001b[49m\u001b[38;5;28;43mself\u001b[39;49m\u001b[38;5;241;43m.\u001b[39;49m\u001b[43m_randbelow\u001b[49m\u001b[43m(\u001b[49m\u001b[38;5;28;43mlen\u001b[39;49m\u001b[43m(\u001b[49m\u001b[43mseq\u001b[49m\u001b[43m)\u001b[49m\u001b[43m)\u001b[49m\u001b[43m]\u001b[49m\n",
      "\u001b[1;31mIndexError\u001b[0m: list index out of range"
     ]
    }
   ],
   "source": [
    "token = 'dasdasdda'\n",
    "request_url = f\"http://api.conceptnet.io/c/en/{token}\"\n",
    "retrieved_edges = requests.get(request_url).json()['edges']\n",
    "retrieved_words = [node['end']['label'] for node in retrieved_edges]\n",
    "retrieved_words = list(set(word for word in retrieved_words if word != token))\n",
    "print(random.choice(retrieved_words))"
   ]
  },
  {
   "cell_type": "code",
   "execution_count": null,
   "metadata": {},
   "outputs": [],
   "source": [
    "class ModelPreprocessor(DataPreProcessor):\n",
    "    def __init__(self):\n",
    "        self.word2vec_corpus = api.load('word2vec-google-news-300')\n",
    "        super().__init__() # base class doesn't tokenize\n",
    "\n",
    "    def tokenize(self,doc):\n",
    "        \"\"\"\n",
    "        function to tokenize text into constituent words, using NLTK API.\n",
    "        return list of tokens from input text: List[str]\n",
    "        \"\"\"\n",
    "        text = doc[\"pipe_text\"]\n",
    "        tokens = word_tokenize(text)\n",
    "        return tokens\n",
    "\n",
    "    #function to perform search against Word2Vec\n",
    "    def get_word2vec_embedding(self,token):\n",
    "        try:\n",
    "            token_embedding = self.word2vec_corpus[token]\n",
    "            return token_embedding\n",
    "        except KeyError:\n",
    "            return None\n",
    "    \n",
    "    #function to perform search against WordNet\n",
    "    def wordnet_replacement(self,token):\n",
    "        \"\"\"\n",
    "        function to generate a synonym of input token using Wordnet\n",
    "        input: token\n",
    "        conditions: token must not have a Word2Vec embedding\n",
    "        output: replacement token -> str, otherwise None\n",
    "        \"\"\"\n",
    "        # token should not be found in word2vec\n",
    "        NoneType = type(None)\n",
    "        assert not isinstance(self.get_word2vec_embedding(token),NoneType)\n",
    "        synonyms = []\n",
    "        synsets = wn.synsets(token)\n",
    "        if len(synsets) == 0: return []\n",
    "        for s in synsets:\n",
    "            lemma_names = s.lemma_names()\n",
    "            for ln in lemma_names:\n",
    "                ln = ln.lower().replace('_',' ')\n",
    "                if (ln != token) and (ln not in synonyms):\n",
    "                    synonyms.append(ln)\n",
    "        return random.choice(synonyms) if synonyms else None\n",
    "        \n",
    "    #function to perform search against ConceptNet (requires API call using requests library)\n",
    "    def conceptnet_replacement(self,token):\n",
    "        \"\"\"\n",
    "        function to generate a replacement token from ConceptNet\n",
    "        input: token\n",
    "        conditions: token must not have a Word2Vec embedding, and has no synonym from WordNet\n",
    "        output: replacement token -> str, otherwise None\n",
    "        \"\"\"\n",
    "        # checks to ensure token does not have word2vec embedding and has no WordNet replacement\n",
    "        NoneType = type(None)\n",
    "        assert not isinstance(self.get_word2vec_embedding(token),NoneType), \"token already has a Word2Vec embedding\"\n",
    "        assert not isinstance(self.wordnet_replacement(token),NoneType), \"token can be replaced by WordNet\"\n",
    "        request_url = f\"http://api.conceptnet.io/c/en/{token}\" # API call to ConceptNet\n",
    "        retrieved_edges = requests.get(request_url).json()['edges']\n",
    "        retrieved_words = [node['end']['label'] for node in retrieved_edges] # collect similar words\n",
    "        retrieved_words = list(set(word for word in retrieved_words if word != token)) # remove duplicates and existing token\n",
    "        return random.choice(retrieved_words) if retrieved_words else None\n",
    "        \n",
    "    #TODO: function to generate random embedding element for missing word, refer to research paper\n",
    "    def random_replacement(self,token):\n",
    "        pass"
   ]
  },
  {
   "cell_type": "code",
   "execution_count": null,
   "metadata": {},
   "outputs": [],
   "source": []
  }
 ],
 "metadata": {
  "kernelspec": {
   "display_name": ".venv",
   "language": "python",
   "name": "python3"
  },
  "language_info": {
   "codemirror_mode": {
    "name": "ipython",
    "version": 3
   },
   "file_extension": ".py",
   "mimetype": "text/x-python",
   "name": "python",
   "nbconvert_exporter": "python",
   "pygments_lexer": "ipython3",
   "version": "3.10.11"
  }
 },
 "nbformat": 4,
 "nbformat_minor": 2
}
